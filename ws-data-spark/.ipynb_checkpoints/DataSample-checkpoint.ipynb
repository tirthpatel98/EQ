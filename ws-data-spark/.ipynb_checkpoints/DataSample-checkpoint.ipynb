{
 "cells": [
  {
   "cell_type": "code",
   "execution_count": 76,
   "metadata": {},
   "outputs": [],
   "source": [
    "from pyspark.sql import SparkSession\n",
    "from pyspark.sql.functions import mean,stddev,col, max, count\n",
    "from rtree import index\n",
    "import geopy.distance\n",
    "import numpy as np\n",
    "from math import pi"
   ]
  },
  {
   "cell_type": "code",
   "execution_count": 48,
   "metadata": {},
   "outputs": [],
   "source": [
    "spark = SparkSession.builder.appName('pandasToSparkDF').getOrCreate()"
   ]
  },
  {
   "cell_type": "code",
   "execution_count": 49,
   "metadata": {},
   "outputs": [],
   "source": [
    "df = spark.read.option(\"header\",True).csv(\"data/DataSample.csv\")\n",
    "POI_df = spark.read.option(\"header\",True).csv(\"data/POIList.csv\")\n",
    "df = df.withColumnRenamed(' TimeSt', 'TimeSt')\n",
    "POI_df = POI_df.withColumnRenamed(' Latitude','Latitude')"
   ]
  },
  {
   "cell_type": "code",
   "execution_count": 50,
   "metadata": {},
   "outputs": [],
   "source": [
    "df = df.drop_duplicates(subset=['TimeSt','Longitude','Latitude'])"
   ]
  },
  {
   "cell_type": "code",
   "execution_count": 51,
   "metadata": {},
   "outputs": [],
   "source": [
    "idx = index.Index()\n",
    "label_list = []\n",
    "for i,row in enumerate(POI_df.rdd.toLocalIterator()):\n",
    "    left = float(row['Latitude'])\n",
    "    bottom = float(row['Longitude'])\n",
    "    idx.insert(i, (left, bottom, left, bottom), obj=row['POIID'])\n",
    "\n",
    "for i,row in enumerate(data.rdd.toLocalIterator()):\n",
    "    lat = float(row['Latitude'])\n",
    "    lon = float(row['Longitude'])\n",
    "    label = [(i.object) for i in idx.nearest((lat, lon, lat, lon), 1, objects=True)]\n",
    "    label_list.append(label[0])"
   ]
  },
  {
   "cell_type": "code",
   "execution_count": 52,
   "metadata": {},
   "outputs": [],
   "source": [
    "pd_df = df.toPandas()\n",
    "pd_POI = POI_df.toPandas()"
   ]
  },
  {
   "cell_type": "code",
   "execution_count": 53,
   "metadata": {},
   "outputs": [],
   "source": [
    "pd_df['label'] = label_list\n",
    "merged_df = pd_df.merge(pd_POI,left_on='label',right_on='POIID',how='inner').drop(['POIID'],axis=1)"
   ]
  },
  {
   "cell_type": "code",
   "execution_count": 54,
   "metadata": {},
   "outputs": [],
   "source": [
    "distance =[]\n",
    "for index, row in merged_df.iterrows():\n",
    "    coord1 = (row['Latitude_x'],row['Longitude_x'])\n",
    "    coord2 = (row['Latitude_y'],row['Longitude_y'])\n",
    "    distance.append(geopy.distance.distance(coord1, coord2).km)"
   ]
  },
  {
   "cell_type": "code",
   "execution_count": 55,
   "metadata": {},
   "outputs": [],
   "source": [
    "merged_df['distance'] = distance"
   ]
  },
  {
   "cell_type": "code",
   "execution_count": 57,
   "metadata": {},
   "outputs": [
    {
     "name": "stdout",
     "output_type": "stream",
     "text": [
      "+-------+--------------------+-------+--------+-----------+----------+-----------+-----+----------+-----------+------------------+\n",
      "|    _ID|              TimeSt|Country|Province|       City|Latitude_x|Longitude_x|label|Latitude_y|Longitude_y|          distance|\n",
      "+-------+--------------------+-------+--------+-----------+----------+-----------+-----+----------+-----------+------------------+\n",
      "|4771330|2017-06-21 00:16:...|     CA|      ON|  Kitchener|  43.41340|  -80.49600| POI3| 45.521629| -73.566024| 598.8795982954658|\n",
      "|5413314|2017-06-21 01:04:...|     CA|      ON|Scarborough|  43.83598|  -79.22789| POI3| 45.521629| -73.566024|486.27942482395355|\n",
      "|5440770|2017-06-21 01:07:...|     CA|      ON|  Shelburne|  44.07890|  -80.20620| POI3| 45.521629| -73.566024|  549.099294076385|\n",
      "|5457784|2017-06-21 01:09:...|     CA|      QC|      Laval|  45.62360|  -73.68610| POI3| 45.521629| -73.566024|14.706970835770374|\n",
      "|4912468|2017-06-21 01:28:...|     CA|      QC|   Montréal|  45.53080|  -73.55560| POI3| 45.521629| -73.566024|1.3046423350504213|\n",
      "+-------+--------------------+-------+--------+-----------+----------+-----------+-----+----------+-----------+------------------+\n",
      "only showing top 5 rows\n",
      "\n"
     ]
    }
   ],
   "source": [
    "df = spark.createDataFrame(merged_df)\n",
    "df.show(5)"
   ]
  },
  {
   "cell_type": "code",
   "execution_count": 69,
   "metadata": {},
   "outputs": [
    {
     "name": "stdout",
     "output_type": "stream",
     "text": [
      "+-----+------------------+-----------------+\n",
      "|label|      std_distance|     avg_distance|\n",
      "+-----+------------------+-----------------+\n",
      "| POI4|2186.7477855935313|694.7196420061714|\n",
      "| POI1| 280.5154449923558|291.7158270749158|\n",
      "| POI3|229.35317294726875|454.9645162746186|\n",
      "+-----+------------------+-----------------+\n",
      "\n"
     ]
    }
   ],
   "source": [
    "stats_df = df.groupBy('label').agg(stddev('distance').alias('std_distance'), mean('distance').alias('avg_distance'))\n",
    "stats_df.show(5)"
   ]
  },
  {
   "cell_type": "code",
   "execution_count": 44,
   "metadata": {},
   "outputs": [
    {
     "data": {
      "text/html": [
       "<div>\n",
       "<style scoped>\n",
       "    .dataframe tbody tr th:only-of-type {\n",
       "        vertical-align: middle;\n",
       "    }\n",
       "\n",
       "    .dataframe tbody tr th {\n",
       "        vertical-align: top;\n",
       "    }\n",
       "\n",
       "    .dataframe thead tr th {\n",
       "        text-align: left;\n",
       "    }\n",
       "\n",
       "    .dataframe thead tr:last-of-type th {\n",
       "        text-align: right;\n",
       "    }\n",
       "</style>\n",
       "<table border=\"1\" class=\"dataframe\">\n",
       "  <thead>\n",
       "    <tr>\n",
       "      <th></th>\n",
       "      <th colspan=\"2\" halign=\"left\">distance</th>\n",
       "    </tr>\n",
       "    <tr>\n",
       "      <th></th>\n",
       "      <th>mean</th>\n",
       "      <th>std</th>\n",
       "    </tr>\n",
       "    <tr>\n",
       "      <th>label</th>\n",
       "      <th></th>\n",
       "      <th></th>\n",
       "    </tr>\n",
       "  </thead>\n",
       "  <tbody>\n",
       "    <tr>\n",
       "      <th>POI1</th>\n",
       "      <td>291.715827</td>\n",
       "      <td>280.515445</td>\n",
       "    </tr>\n",
       "    <tr>\n",
       "      <th>POI3</th>\n",
       "      <td>454.964516</td>\n",
       "      <td>229.353173</td>\n",
       "    </tr>\n",
       "    <tr>\n",
       "      <th>POI4</th>\n",
       "      <td>694.719642</td>\n",
       "      <td>2186.747786</td>\n",
       "    </tr>\n",
       "  </tbody>\n",
       "</table>\n",
       "</div>"
      ],
      "text/plain": [
       "         distance             \n",
       "             mean          std\n",
       "label                         \n",
       "POI1   291.715827   280.515445\n",
       "POI3   454.964516   229.353173\n",
       "POI4   694.719642  2186.747786"
      ]
     },
     "execution_count": 44,
     "metadata": {},
     "output_type": "execute_result"
    }
   ],
   "source": [
    "merged_df.groupby(['label']).agg({'distance':['mean',np.std]})"
   ]
  },
  {
   "cell_type": "code",
   "execution_count": 89,
   "metadata": {},
   "outputs": [
    {
     "name": "stdout",
     "output_type": "stream",
     "text": [
      "+-----+------------------+\n",
      "|label|            radius|\n",
      "+-----+------------------+\n",
      "| POI1|1689.5303476129404|\n",
      "| POI3|1551.9711029118484|\n",
      "| POI4|14204.310487196022|\n",
      "+-----+------------------+\n",
      "\n",
      "+-----+--------+\n",
      "|label|requests|\n",
      "+-----+--------+\n",
      "| POI1|    9698|\n",
      "| POI3|    9817|\n",
      "| POI4|     484|\n",
      "+-----+--------+\n",
      "\n"
     ]
    }
   ],
   "source": [
    "radius_df = df.groupBy('label').agg(max('distance').alias('radius'))\n",
    "requests_df = df.groupBy('label').agg(count('_ID').alias('requests'))\n",
    "radius_df.show(5)\n",
    "requests_df.show(5)"
   ]
  },
  {
   "cell_type": "code",
   "execution_count": 92,
   "metadata": {},
   "outputs": [
    {
     "name": "stdout",
     "output_type": "stream",
     "text": [
      "+-----+------------------+-----+--------+\n",
      "|label|radius            |label|requests|\n",
      "+-----+------------------+-----+--------+\n",
      "|POI4 |14204.310487196022|POI4 |484     |\n",
      "|POI1 |1689.5303476129404|POI1 |9698    |\n",
      "|POI3 |1551.9711029118484|POI3 |9817    |\n",
      "+-----+------------------+-----+--------+\n",
      "\n"
     ]
    },
    {
     "ename": "TypeError",
     "evalue": "'NoneType' object is not subscriptable",
     "output_type": "error",
     "traceback": [
      "\u001b[1;31m---------------------------------------------------------------------------\u001b[0m",
      "\u001b[1;31mTypeError\u001b[0m                                 Traceback (most recent call last)",
      "\u001b[1;32m<ipython-input-92-78b8ee2b0345>\u001b[0m in \u001b[0;36m<module>\u001b[1;34m\u001b[0m\n\u001b[0;32m      1\u001b[0m \u001b[0mradius_requests_df\u001b[0m \u001b[1;33m=\u001b[0m \u001b[0mradius_df\u001b[0m\u001b[1;33m.\u001b[0m\u001b[0mjoin\u001b[0m\u001b[1;33m(\u001b[0m\u001b[0mrequests_df\u001b[0m\u001b[1;33m,\u001b[0m\u001b[0mradius_df\u001b[0m\u001b[1;33m.\u001b[0m\u001b[0mlabel\u001b[0m \u001b[1;33m==\u001b[0m \u001b[0mrequests_df\u001b[0m\u001b[1;33m.\u001b[0m\u001b[0mlabel\u001b[0m\u001b[1;33m,\u001b[0m\u001b[1;34m\"inner\"\u001b[0m\u001b[1;33m)\u001b[0m\u001b[1;33m.\u001b[0m\u001b[0mshow\u001b[0m\u001b[1;33m(\u001b[0m\u001b[0mtruncate\u001b[0m\u001b[1;33m=\u001b[0m\u001b[1;32mFalse\u001b[0m\u001b[1;33m)\u001b[0m\u001b[1;33m\u001b[0m\u001b[1;33m\u001b[0m\u001b[0m\n\u001b[1;32m----> 2\u001b[1;33m \u001b[0mradius_requests_df\u001b[0m \u001b[1;33m=\u001b[0m \u001b[0mradius_requests_df\u001b[0m\u001b[1;33m[\u001b[0m\u001b[1;34m'radius'\u001b[0m\u001b[1;33m]\u001b[0m\u001b[1;33m.\u001b[0m\u001b[0mmap\u001b[0m\u001b[1;33m(\u001b[0m\u001b[1;32mlambda\u001b[0m \u001b[0mx\u001b[0m\u001b[1;33m:\u001b[0m \u001b[0mpi\u001b[0m\u001b[1;33m*\u001b[0m\u001b[0mx\u001b[0m\u001b[1;33m**\u001b[0m\u001b[1;36m2\u001b[0m\u001b[1;33m)\u001b[0m\u001b[1;33m\u001b[0m\u001b[1;33m\u001b[0m\u001b[0m\n\u001b[0m\u001b[0;32m      3\u001b[0m \u001b[0mradius_requests_df\u001b[0m\u001b[1;33m.\u001b[0m\u001b[0mshow\u001b[0m\u001b[1;33m(\u001b[0m\u001b[1;36m5\u001b[0m\u001b[1;33m)\u001b[0m\u001b[1;33m\u001b[0m\u001b[1;33m\u001b[0m\u001b[0m\n\u001b[0;32m      4\u001b[0m \u001b[1;31m# idx = 0\u001b[0m\u001b[1;33m\u001b[0m\u001b[1;33m\u001b[0m\u001b[1;33m\u001b[0m\u001b[0m\n\u001b[0;32m      5\u001b[0m \u001b[1;31m# for row in radius_df.rdd.toLocalIterator():\u001b[0m\u001b[1;33m\u001b[0m\u001b[1;33m\u001b[0m\u001b[1;33m\u001b[0m\u001b[0m\n",
      "\u001b[1;31mTypeError\u001b[0m: 'NoneType' object is not subscriptable"
     ]
    }
   ],
   "source": [
    "radius_requests_df = radius_df.join(requests_df,radius_df.label == requests_df.label,\"inner\").show(truncate=False)\n",
    "#radius_requests_df = radius_requests_df['radius'].map(lambda x: pi*x**2)\n",
    "radius_requests_df = radius_requests_df.withColumn('abc', pi*col(radius)**2)\n",
    "radius_requests_df.show(5)\n",
    "# idx = 0\n",
    "# for row in radius_df.rdd.toLocalIterator():\n",
    "#     area=pi*row.radius**2\n",
    "#     density.append(requests[index]/area)"
   ]
  },
  {
   "cell_type": "code",
   "execution_count": 45,
   "metadata": {},
   "outputs": [
    {
     "data": {
      "text/html": [
       "<div>\n",
       "<style scoped>\n",
       "    .dataframe tbody tr th:only-of-type {\n",
       "        vertical-align: middle;\n",
       "    }\n",
       "\n",
       "    .dataframe tbody tr th {\n",
       "        vertical-align: top;\n",
       "    }\n",
       "\n",
       "    .dataframe thead th {\n",
       "        text-align: right;\n",
       "    }\n",
       "</style>\n",
       "<table border=\"1\" class=\"dataframe\">\n",
       "  <thead>\n",
       "    <tr style=\"text-align: right;\">\n",
       "      <th></th>\n",
       "      <th>label</th>\n",
       "      <th>radius</th>\n",
       "      <th>density</th>\n",
       "    </tr>\n",
       "  </thead>\n",
       "  <tbody>\n",
       "    <tr>\n",
       "      <th>0</th>\n",
       "      <td>POI1</td>\n",
       "      <td>1689.530348</td>\n",
       "      <td>1.081435e-03</td>\n",
       "    </tr>\n",
       "    <tr>\n",
       "      <th>1</th>\n",
       "      <td>POI3</td>\n",
       "      <td>1551.971103</td>\n",
       "      <td>1.297363e-03</td>\n",
       "    </tr>\n",
       "    <tr>\n",
       "      <th>2</th>\n",
       "      <td>POI4</td>\n",
       "      <td>14204.310487</td>\n",
       "      <td>7.635811e-07</td>\n",
       "    </tr>\n",
       "  </tbody>\n",
       "</table>\n",
       "</div>"
      ],
      "text/plain": [
       "  label        radius       density\n",
       "0  POI1   1689.530348  1.081435e-03\n",
       "1  POI3   1551.971103  1.297363e-03\n",
       "2  POI4  14204.310487  7.635811e-07"
      ]
     },
     "execution_count": 45,
     "metadata": {},
     "output_type": "execute_result"
    }
   ],
   "source": [
    "radius_df = merged_df.groupby(['label']).agg(radius = ('distance','max')).reset_index()\n",
    "requests = merged_df.groupby(['label'])['_ID'].count()\n",
    "density = []\n",
    "for index, row in radius_df.iterrows():\n",
    "    area=pi*row['radius']**2\n",
    "    density.append(requests[index]/area) \n",
    "radius_df['density'] = density\n",
    "radius_df"
   ]
  },
  {
   "cell_type": "code",
   "execution_count": null,
   "metadata": {},
   "outputs": [],
   "source": []
  }
 ],
 "metadata": {
  "kernelspec": {
   "display_name": "Python 3",
   "language": "python",
   "name": "python3"
  },
  "language_info": {
   "codemirror_mode": {
    "name": "ipython",
    "version": 3
   },
   "file_extension": ".py",
   "mimetype": "text/x-python",
   "name": "python",
   "nbconvert_exporter": "python",
   "pygments_lexer": "ipython3",
   "version": "3.8.5"
  }
 },
 "nbformat": 4,
 "nbformat_minor": 4
}
